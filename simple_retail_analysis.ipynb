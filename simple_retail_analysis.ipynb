{
 "cells": [
  {
   "cell_type": "markdown",
   "metadata": {},
   "source": [
    "# 📊 Project #1: Simple Retail Sales Analysis\n",
    "\n",
    "**Author:** CraftedCoder  \n",
    "**Date:** October 20, 2025  \n",
    "**Skill Level:** Beginner (Basic pandas only)  \n",
    "\n",
    "## 🎯 What We'll Learn\n",
    "- Load data from CSV files\n",
    "- Clean messy data\n",
    "- Calculate basic business metrics\n",
    "- Create simple charts\n",
    "- Generate insights from data"
   ]
  },
  {
   "cell_type": "code",
   "execution_count": null,
   "metadata": {},
   "outputs": [],
   "source": [
    "import pandas as pd\n",
    "import matplotlib.pyplot as plt\n",
    "\n",
    "print(\"🎯 Project #1: Simple Retail Sales Analysis\")\n",
    "print(\"=\" * 40)"
   ]
  },
  {
   "cell_type": "markdown",
   "metadata": {},
   "source": [
    "## Step 1: Load the Data 📥"
   ]
  },
  {
   "cell_type": "code",
   "execution_count": null,
   "metadata": {},
   "outputs": [],
   "source": [
    "# Load the data from CSV file\n",
    "print(\"📥 Loading data...\")\n",
    "df = pd.read_csv('sales_data.csv')\n",
    "print(\"✅ Data loaded!\")\n",
    "print(f\"Rows: {len(df)}\")\n",
    "print(f\"Columns: {len(df.columns)}\")"
   ]
  },
  {
   "cell_type": "markdown",
   "metadata": {},
   "source": [
    "## Step 2: Look at the Data 👀"
   ]
  },
  {
   "cell_type": "code",
   "execution_count": null,
   "metadata": {},
   "outputs": [],
   "source": [
    "# Look at first 5 rows\n",
    "print(\"👀 First 5 rows:\")\n",
    "print(df.head())"
   ]
  },
  {
   "cell_type": "code",
   "execution_count": null,
   "metadata": {},
   "outputs": [],
   "source": [
    "# Check column names\n",
    "print(\"Column names:\")\n",
    "print(df.columns.tolist())"
   ]
  },
  {
   "cell_type": "code",
   "execution_count": null,
   "metadata": {},
   "outputs": [],
   "source": [
    "# Get basic information about the data\n",
    "print(\"Data info:\")\n",
    "print(df.info())"
   ]
  },
  {
   "cell_type": "markdown",
   "metadata": {},
   "source": [
    "## Step 3: Check for Problems 🔍"
   ]
  },
  {
   "cell_type": "code",
   "execution_count": null,
   "metadata": {},
   "outputs": [],
   "source": [
    "# Check for missing data\n",
    "print(\"🔍 Checking for missing data...\")\n",
    "print(\"Missing values:\")\n",
    "print(df.isnull().sum())"
   ]
  },
  {
   "cell_type": "code",
   "execution_count": null,
   "metadata": {},
   "outputs": [],
   "source": [
    "# Check data types\n",
    "print(\"Data types:\")\n",
    "print(df.dtypes)"
   ]
  },
  {
   "cell_type": "markdown",
   "metadata": {},
   "source": [
    "## Step 4: Clean the Data 🧹"
   ]
  },
  {
   "cell_type": "code",
   "execution_count": null,
   "metadata": {},
   "outputs": [],
   "source": [
    "# Clean the data step by step\n",
    "print(\"🧹 Cleaning data...\")\n",
    "\n",
    "# Remove rows with missing CustomerID\n",
    "print(\"Before cleaning:\", len(df))\n",
    "df_clean = df.dropna(subset=['CustomerID'])\n",
    "print(\"After removing missing CustomerID:\", len(df_clean))"
   ]
  },
  {
   "cell_type": "code",
   "execution_count": null,
   "metadata": {},
   "outputs": [],
   "source": [
    "# Remove rows with zero price\n",
    "df_clean = df_clean[df_clean['UnitPrice'] > 0]\n",
    "print(\"After removing zero prices:\", len(df_clean))"
   ]
  },
  {
   "cell_type": "code",
   "execution_count": null,
   "metadata": {},
   "outputs": [],
   "source": [
    "# Add total price column (simple math)\n",
    "df_clean['TotalPrice'] = df_clean['Quantity'] * df_clean['UnitPrice']\n",
    "print(\"✅ Added TotalPrice column\")"
   ]
  },
  {
   "cell_type": "markdown",
   "metadata": {},
   "source": [
    "## Step 5: Basic Analysis 📊"
   ]
  },
  {
   "cell_type": "code",
   "execution_count": null,
   "metadata": {},
   "outputs": [],
   "source": [
    "# Calculate basic business metrics\n",
    "print(\"📊 Basic Analysis\")\n",
    "\n",
    "# Total sales\n",
    "total_sales = df_clean['TotalPrice'].sum()\n",
    "print(f\"Total Sales: £{total_sales:.2f}\")\n",
    "\n",
    "# Number of orders\n",
    "num_orders = len(df_clean)\n",
    "print(f\"Number of Orders: {num_orders}\")\n",
    "\n",
    "# Number of customers\n",
    "num_customers = df_clean['CustomerID'].nunique()\n",
    "print(f\"Number of Customers: {num_customers}\")\n",
    "\n",
    "# Average order value\n",
    "avg_order = df_clean['TotalPrice'].mean()\n",
    "print(f\"Average Order: £{avg_order:.2f}\")"
   ]
  },
  {
   "cell_type": "markdown",
   "metadata": {},
   "source": [
    "## Step 6: Simple Grouping 📈"
   ]
  },
  {
   "cell_type": "code",
   "execution_count": null,
   "metadata": {},
   "outputs": [],
   "source": [
    "# Group sales by country\n",
    "print(\"📈 Sales by Country\")\n",
    "country_sales = df_clean.groupby('Country')['TotalPrice'].sum()\n",
    "print(\"Top 5 Countries:\")\n",
    "print(country_sales.sort_values(ascending=False).head())"
   ]
  },
  {
   "cell_type": "code",
   "execution_count": null,
   "metadata": {},
   "outputs": [],
   "source": [
    "# Find top products\n",
    "print(\"🛍️ Top Products\")\n",
    "product_sales = df_clean.groupby('Description')['Quantity'].sum()\n",
    "print(\"Most Sold Products:\")\n",
    "print(product_sales.sort_values(ascending=False).head())"
   ]
  },
  {
   "cell_type": "markdown",
   "metadata": {},
   "source": [
    "## Step 7: Create Simple Charts 📊"
   ]
  },
  {
   "cell_type": "code",
   "execution_count": null,
   "metadata": {},
   "outputs": [],
   "source": [
    "# Chart 1: Sales by top 5 countries\n",
    "print(\"📊 Creating simple charts...\")\n",
    "\n",
    "plt.figure(figsize=(10, 6))\n",
    "top_countries = country_sales.sort_values(ascending=False).head()\n",
    "plt.bar(range(len(top_countries)), top_countries.values)\n",
    "plt.title('Sales by Top 5 Countries')\n",
    "plt.ylabel('Sales (£)')\n",
    "plt.xticks(range(len(top_countries)), top_countries.index, rotation=45)\n",
    "plt.show()"
   ]
  },
  {
   "cell_type": "code",
   "execution_count": null,
   "metadata": {},
   "outputs": [],
   "source": [
    "# Chart 2: Order value distribution\n",
    "plt.figure(figsize=(8, 6))\n",
    "plt.hist(df_clean['TotalPrice'], bins=30)\n",
    "plt.title('Order Value Distribution')\n",
    "plt.xlabel('Order Value (£)')\n",
    "plt.ylabel('Number of Orders')\n",
    "plt.xlim(0, 500)  # Show main part only\n",
    "plt.show()"
   ]
  },
  {
   "cell_type": "code",
   "execution_count": null,
   "metadata": {},
   "outputs": [],
   "source": [
    "# Chart 3: Top 5 products\n",
    "plt.figure(figsize=(10, 6))\n",
    "top_products = product_sales.sort_values(ascending=False).head()\n",
    "plt.barh(range(len(top_products)), top_products.values)\n",
    "plt.title('Top 5 Products by Quantity Sold')\n",
    "plt.xlabel('Quantity Sold')\n",
    "plt.yticks(range(len(top_products)), top_products.index)\n",
    "plt.show()"
   ]
  },
  {
   "cell_type": "markdown",
   "metadata": {},
   "source": [
    "## Step 8: Save Results 💾"
   ]
  },
  {
   "cell_type": "code",
   "execution_count": null,
   "metadata": {},
   "outputs": [],
   "source": [
    "# Save the cleaned data\n",
    "print(\"💾 Saving results...\")\n",
    "df_clean.to_csv('clean_sales_data.csv', index=False)\n",
    "print(\"✅ Clean data saved!\")"
   ]
  },
  {
   "cell_type": "code",
   "execution_count": null,
   "metadata": {},
   "outputs": [],
   "source": [
    "# Create and save summary\n",
    "summary_data = {\n",
    "    'Metric': ['Total Sales', 'Number of Orders', 'Number of Customers', 'Average Order'],\n",
    "    'Value': [f'£{total_sales:.2f}', num_orders, num_customers, f'£{avg_order:.2f}']\n",
    "}\n",
    "summary_df = pd.DataFrame(summary_data)\n",
    "summary_df.to_csv('summary.csv', index=False)\n",
    "print(\"✅ Summary saved!\")"
   ]
  },
  {
   "cell_type": "markdown",
   "metadata": {},
   "source": [
    "## 🎉 Final Results"
   ]
  },
  {
   "cell_type": "code",
   "execution_count": null,
   "metadata": {},
   "outputs": [],
   "source": [
    "print(\"🎉 Analysis complete!\")\n",
    "print(\"Key findings:\")\n",
    "print(f\"- Total sales: £{total_sales:.2f}\")\n",
    "print(f\"- Top country: {top_countries.index[0]}\")\n",
    "print(f\"- Average customer spends: £{total_sales/num_customers:.2f}\")"
   ]
  }
 ],
 "metadata": {
  "kernelspec": {
   "display_name": "Python 3",
   "language": "python",
   "name": "python3"
  },
  "language_info": {
   "codemirror_mode": {
    "name": "ipython",
    "version": 3
   },
   "file_extension": ".py",
   "mimetype": "text/x-python",
   "name": "python",
   "nbconvert_exporter": "python",
   "pygments_lexer": "ipython3",
   "version": "3.8.0"
  }
 },
 "nbformat": 4,
 "nbformat_minor": 4
}